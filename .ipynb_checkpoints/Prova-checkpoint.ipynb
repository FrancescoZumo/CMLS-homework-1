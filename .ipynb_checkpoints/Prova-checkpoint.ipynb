{
 "cells": [
  {
   "cell_type": "code",
   "execution_count": 8,
   "id": "adjacent-technique",
   "metadata": {},
   "outputs": [],
   "source": [
    "import numpy as np\n",
    "import librosa\n",
    "import os\n",
    "import matplotlib.pyplot as plt\n",
    "import sklearn.svm\n",
    "import IPython.display as ipd\n",
    "import scipy as sp\n",
    "%matplotlib inline\n",
    "from sklearn.mixture import BayesianGaussianMixture\n",
    "from sklearn.model_selection import train_test_split\n",
    "import seaborn as sns\n",
    "import pandas as pd\n",
    "\n",
    "\n",
    "\n"
   ]
  },
  {
   "cell_type": "code",
   "execution_count": 9,
   "id": "boxed-charge",
   "metadata": {},
   "outputs": [],
   "source": [
    "def compute_mfcc(audio, fs, n_mfcc):\n",
    "    # Compute the spectrogram of the audio signal\n",
    "    X = np.abs(librosa.stft(\n",
    "        audio,\n",
    "        window='hamming',\n",
    "        n_fft=1024,\n",
    "        hop_length=512,)\n",
    "        )\n",
    "    \n",
    "    # Find the weights of the mel filters\n",
    "    mel = librosa.filters.mel(\n",
    "        sr=fs,\n",
    "        n_fft=1024,\n",
    "        n_mels=40,\n",
    "        fmin=133.33,\n",
    "        fmax=6853.8,\n",
    "    )\n",
    "    \n",
    "    # Apply the filters to spectrogram\n",
    "    melspectrogram = np.dot(mel, X)\n",
    "    # Take the logarithm\n",
    "    log_melspectrogram = np.log10(melspectrogram + 1e-16)\n",
    "    \n",
    "    # Apply the DCT to log melspectrogram to obtain the coefficients\n",
    "    mfcc = sp.fftpack.dct(log_melspectrogram, axis=0, norm='ortho')[1:n_mfcc+1]\n",
    "    return mfcc"
   ]
  },
  {
   "cell_type": "code",
   "execution_count": 12,
   "id": "excellent-class",
   "metadata": {},
   "outputs": [],
   "source": [
    "# define the dictionary containing the 10 classes\n",
    "class_train_files = {'zero': [], 'one': [], 'two': [], 'three': [], 'four': [], 'five': [], 'six': [], 'seven': [], 'eight': [], 'nine': []}\n",
    "\n",
    "root = '../free-spoken-digit-dataset/recordings'\n",
    "for f in os.listdir(root):\n",
    "    for index, c in enumerate(class_train_files):\n",
    "        if int(f[0]) == index:\n",
    "            class_train_files[c].append(f)"
   ]
  },
  {
   "cell_type": "code",
   "execution_count": 13,
   "id": "hindu-explorer",
   "metadata": {},
   "outputs": [
    {
     "data": {
      "text/html": [
       "\n",
       "                <audio  controls=\"controls\" >\n",
       "                    <source src=\"data:audio/wav;base64,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\" type=\"audio/wav\" />\n",
       "                    Your browser does not support the audio element.\n",
       "                </audio>\n",
       "              "
      ],
      "text/plain": [
       "<IPython.lib.display.Audio object>"
      ]
     },
     "execution_count": 13,
     "metadata": {},
     "output_type": "execute_result"
    }
   ],
   "source": [
    "# listen to an audio file\n",
    "audio, fs = librosa.load(os.path.join(root, class_train_files['zero'][3]), sr=None)\n",
    "ipd.Audio(audio, rate=fs) # load the file"
   ]
  },
  {
   "cell_type": "code",
   "execution_count": 14,
   "id": "arbitrary-harrison",
   "metadata": {},
   "outputs": [
    {
     "name": "stdout",
     "output_type": "stream",
     "text": [
      "270\n",
      "30\n"
     ]
    }
   ],
   "source": [
    "df = pd.DataFrame(class_train_files)\n",
    "# split the data into train and test set (for now 10% test)\n",
    "train, test = train_test_split(df, test_size=0.1, random_state=42, shuffle=True) #0.1 perchè abbiamo fatto una divisione del 10%\n",
    "print(train.shape[0])\n",
    "print(test.shape[0])\n",
    "\n",
    "x = np.empty(train.shape[0], object)# serve dopo"
   ]
  },
  {
   "cell_type": "code",
   "execution_count": 15,
   "id": "linear-bench",
   "metadata": {},
   "outputs": [
    {
     "data": {
      "text/html": [
       "<div>\n",
       "<style scoped>\n",
       "    .dataframe tbody tr th:only-of-type {\n",
       "        vertical-align: middle;\n",
       "    }\n",
       "\n",
       "    .dataframe tbody tr th {\n",
       "        vertical-align: top;\n",
       "    }\n",
       "\n",
       "    .dataframe thead th {\n",
       "        text-align: right;\n",
       "    }\n",
       "</style>\n",
       "<table border=\"1\" class=\"dataframe\">\n",
       "  <thead>\n",
       "    <tr style=\"text-align: right;\">\n",
       "      <th></th>\n",
       "      <th>zero</th>\n",
       "      <th>one</th>\n",
       "      <th>two</th>\n",
       "      <th>three</th>\n",
       "      <th>four</th>\n",
       "      <th>five</th>\n",
       "      <th>six</th>\n",
       "      <th>seven</th>\n",
       "      <th>eight</th>\n",
       "      <th>nine</th>\n",
       "    </tr>\n",
       "  </thead>\n",
       "  <tbody>\n",
       "    <tr>\n",
       "      <th>0</th>\n",
       "      <td>0_theo_26.wav</td>\n",
       "      <td>1_jackson_37.wav</td>\n",
       "      <td>2_jackson_41.wav</td>\n",
       "      <td>3_nicolas_6.wav</td>\n",
       "      <td>4_yweweler_43.wav</td>\n",
       "      <td>5_yweweler_45.wav</td>\n",
       "      <td>6_lucas_14.wav</td>\n",
       "      <td>7_nicolas_24.wav</td>\n",
       "      <td>8_jackson_31.wav</td>\n",
       "      <td>9_george_7.wav</td>\n",
       "    </tr>\n",
       "    <tr>\n",
       "      <th>1</th>\n",
       "      <td>0_nicolas_31.wav</td>\n",
       "      <td>1_jackson_33.wav</td>\n",
       "      <td>2_yweweler_18.wav</td>\n",
       "      <td>3_george_44.wav</td>\n",
       "      <td>4_theo_45.wav</td>\n",
       "      <td>5_jackson_32.wav</td>\n",
       "      <td>6_george_4.wav</td>\n",
       "      <td>7_jackson_38.wav</td>\n",
       "      <td>8_theo_0.wav</td>\n",
       "      <td>9_theo_34.wav</td>\n",
       "    </tr>\n",
       "    <tr>\n",
       "      <th>2</th>\n",
       "      <td>0_yweweler_6.wav</td>\n",
       "      <td>1_lucas_49.wav</td>\n",
       "      <td>2_nicolas_29.wav</td>\n",
       "      <td>3_theo_7.wav</td>\n",
       "      <td>4_jackson_20.wav</td>\n",
       "      <td>5_jackson_31.wav</td>\n",
       "      <td>6_yweweler_40.wav</td>\n",
       "      <td>7_theo_4.wav</td>\n",
       "      <td>8_lucas_35.wav</td>\n",
       "      <td>9_nicolas_49.wav</td>\n",
       "    </tr>\n",
       "    <tr>\n",
       "      <th>3</th>\n",
       "      <td>0_george_37.wav</td>\n",
       "      <td>1_jackson_19.wav</td>\n",
       "      <td>2_jackson_24.wav</td>\n",
       "      <td>3_jackson_44.wav</td>\n",
       "      <td>4_theo_9.wav</td>\n",
       "      <td>5_nicolas_28.wav</td>\n",
       "      <td>6_nicolas_32.wav</td>\n",
       "      <td>7_lucas_12.wav</td>\n",
       "      <td>8_theo_16.wav</td>\n",
       "      <td>9_yweweler_47.wav</td>\n",
       "    </tr>\n",
       "    <tr>\n",
       "      <th>4</th>\n",
       "      <td>0_jackson_49.wav</td>\n",
       "      <td>1_nicolas_29.wav</td>\n",
       "      <td>2_lucas_11.wav</td>\n",
       "      <td>3_nicolas_41.wav</td>\n",
       "      <td>4_nicolas_39.wav</td>\n",
       "      <td>5_george_7.wav</td>\n",
       "      <td>6_lucas_33.wav</td>\n",
       "      <td>7_george_37.wav</td>\n",
       "      <td>8_george_35.wav</td>\n",
       "      <td>9_jackson_18.wav</td>\n",
       "    </tr>\n",
       "    <tr>\n",
       "      <th>...</th>\n",
       "      <td>...</td>\n",
       "      <td>...</td>\n",
       "      <td>...</td>\n",
       "      <td>...</td>\n",
       "      <td>...</td>\n",
       "      <td>...</td>\n",
       "      <td>...</td>\n",
       "      <td>...</td>\n",
       "      <td>...</td>\n",
       "      <td>...</td>\n",
       "    </tr>\n",
       "    <tr>\n",
       "      <th>295</th>\n",
       "      <td>0_jackson_3.wav</td>\n",
       "      <td>1_theo_6.wav</td>\n",
       "      <td>2_theo_23.wav</td>\n",
       "      <td>3_george_24.wav</td>\n",
       "      <td>4_lucas_6.wav</td>\n",
       "      <td>5_theo_31.wav</td>\n",
       "      <td>6_lucas_47.wav</td>\n",
       "      <td>7_nicolas_21.wav</td>\n",
       "      <td>8_yweweler_4.wav</td>\n",
       "      <td>9_george_13.wav</td>\n",
       "    </tr>\n",
       "    <tr>\n",
       "      <th>296</th>\n",
       "      <td>0_theo_21.wav</td>\n",
       "      <td>1_george_41.wav</td>\n",
       "      <td>2_george_18.wav</td>\n",
       "      <td>3_jackson_30.wav</td>\n",
       "      <td>4_theo_22.wav</td>\n",
       "      <td>5_jackson_18.wav</td>\n",
       "      <td>6_jackson_14.wav</td>\n",
       "      <td>7_yweweler_15.wav</td>\n",
       "      <td>8_yweweler_32.wav</td>\n",
       "      <td>9_george_41.wav</td>\n",
       "    </tr>\n",
       "    <tr>\n",
       "      <th>297</th>\n",
       "      <td>0_george_24.wav</td>\n",
       "      <td>1_george_4.wav</td>\n",
       "      <td>2_lucas_36.wav</td>\n",
       "      <td>3_jackson_16.wav</td>\n",
       "      <td>4_yweweler_44.wav</td>\n",
       "      <td>5_lucas_8.wav</td>\n",
       "      <td>6_george_20.wav</td>\n",
       "      <td>7_yweweler_23.wav</td>\n",
       "      <td>8_george_18.wav</td>\n",
       "      <td>9_nicolas_44.wav</td>\n",
       "    </tr>\n",
       "    <tr>\n",
       "      <th>298</th>\n",
       "      <td>0_nicolas_15.wav</td>\n",
       "      <td>1_theo_39.wav</td>\n",
       "      <td>2_theo_31.wav</td>\n",
       "      <td>3_yweweler_49.wav</td>\n",
       "      <td>4_lucas_13.wav</td>\n",
       "      <td>5_jackson_28.wav</td>\n",
       "      <td>6_yweweler_3.wav</td>\n",
       "      <td>7_lucas_35.wav</td>\n",
       "      <td>8_nicolas_36.wav</td>\n",
       "      <td>9_nicolas_27.wav</td>\n",
       "    </tr>\n",
       "    <tr>\n",
       "      <th>299</th>\n",
       "      <td>0_nicolas_22.wav</td>\n",
       "      <td>1_lucas_18.wav</td>\n",
       "      <td>2_yweweler_15.wav</td>\n",
       "      <td>3_lucas_34.wav</td>\n",
       "      <td>4_nicolas_20.wav</td>\n",
       "      <td>5_nicolas_4.wav</td>\n",
       "      <td>6_george_16.wav</td>\n",
       "      <td>7_lucas_41.wav</td>\n",
       "      <td>8_nicolas_7.wav</td>\n",
       "      <td>9_lucas_29.wav</td>\n",
       "    </tr>\n",
       "  </tbody>\n",
       "</table>\n",
       "<p>300 rows × 10 columns</p>\n",
       "</div>"
      ],
      "text/plain": [
       "                 zero               one                two              three  \\\n",
       "0       0_theo_26.wav  1_jackson_37.wav   2_jackson_41.wav    3_nicolas_6.wav   \n",
       "1    0_nicolas_31.wav  1_jackson_33.wav  2_yweweler_18.wav    3_george_44.wav   \n",
       "2    0_yweweler_6.wav    1_lucas_49.wav   2_nicolas_29.wav       3_theo_7.wav   \n",
       "3     0_george_37.wav  1_jackson_19.wav   2_jackson_24.wav   3_jackson_44.wav   \n",
       "4    0_jackson_49.wav  1_nicolas_29.wav     2_lucas_11.wav   3_nicolas_41.wav   \n",
       "..                ...               ...                ...                ...   \n",
       "295   0_jackson_3.wav      1_theo_6.wav      2_theo_23.wav    3_george_24.wav   \n",
       "296     0_theo_21.wav   1_george_41.wav    2_george_18.wav   3_jackson_30.wav   \n",
       "297   0_george_24.wav    1_george_4.wav     2_lucas_36.wav   3_jackson_16.wav   \n",
       "298  0_nicolas_15.wav     1_theo_39.wav      2_theo_31.wav  3_yweweler_49.wav   \n",
       "299  0_nicolas_22.wav    1_lucas_18.wav  2_yweweler_15.wav     3_lucas_34.wav   \n",
       "\n",
       "                  four               five                six  \\\n",
       "0    4_yweweler_43.wav  5_yweweler_45.wav     6_lucas_14.wav   \n",
       "1        4_theo_45.wav   5_jackson_32.wav     6_george_4.wav   \n",
       "2     4_jackson_20.wav   5_jackson_31.wav  6_yweweler_40.wav   \n",
       "3         4_theo_9.wav   5_nicolas_28.wav   6_nicolas_32.wav   \n",
       "4     4_nicolas_39.wav     5_george_7.wav     6_lucas_33.wav   \n",
       "..                 ...                ...                ...   \n",
       "295      4_lucas_6.wav      5_theo_31.wav     6_lucas_47.wav   \n",
       "296      4_theo_22.wav   5_jackson_18.wav   6_jackson_14.wav   \n",
       "297  4_yweweler_44.wav      5_lucas_8.wav    6_george_20.wav   \n",
       "298     4_lucas_13.wav   5_jackson_28.wav   6_yweweler_3.wav   \n",
       "299   4_nicolas_20.wav    5_nicolas_4.wav    6_george_16.wav   \n",
       "\n",
       "                 seven              eight               nine  \n",
       "0     7_nicolas_24.wav   8_jackson_31.wav     9_george_7.wav  \n",
       "1     7_jackson_38.wav       8_theo_0.wav      9_theo_34.wav  \n",
       "2         7_theo_4.wav     8_lucas_35.wav   9_nicolas_49.wav  \n",
       "3       7_lucas_12.wav      8_theo_16.wav  9_yweweler_47.wav  \n",
       "4      7_george_37.wav    8_george_35.wav   9_jackson_18.wav  \n",
       "..                 ...                ...                ...  \n",
       "295   7_nicolas_21.wav   8_yweweler_4.wav    9_george_13.wav  \n",
       "296  7_yweweler_15.wav  8_yweweler_32.wav    9_george_41.wav  \n",
       "297  7_yweweler_23.wav    8_george_18.wav   9_nicolas_44.wav  \n",
       "298     7_lucas_35.wav   8_nicolas_36.wav   9_nicolas_27.wav  \n",
       "299     7_lucas_41.wav    8_nicolas_7.wav     9_lucas_29.wav  \n",
       "\n",
       "[300 rows x 10 columns]"
      ]
     },
     "execution_count": 15,
     "metadata": {},
     "output_type": "execute_result"
    }
   ],
   "source": [
    "df"
   ]
  },
  {
   "cell_type": "code",
   "execution_count": 25,
   "id": "sustainable-template",
   "metadata": {},
   "outputs": [
    {
     "name": "stdout",
     "output_type": "stream",
     "text": [
      "finished\n"
     ]
    }
   ],
   "source": [
    "# initialize dictionaries\n",
    "dict_train_mfcc = {'zero': [], 'one': [], 'two': [], 'three': [], 'four': [], 'five': [], 'six': [], 'seven': [], 'eight': [], 'nine': []}\n",
    "dict_test_mfcc = {'zero': [], 'one': [], 'two': [], 'three': [], 'four': [], 'five': [], 'six': [], 'seven': [], 'eight': [], 'nine': []}\n",
    "\n",
    "\n",
    "# why 13? try different values. check warning\n",
    "n_mfcc = 13\n",
    "\n",
    "df_list = [train, test]\n",
    "\n",
    "# for train and test\n",
    "for index, data in enumerate(df_list):\n",
    "    # for each class\n",
    "    for c in data:\n",
    "        # set up array for storing mfcc\n",
    "        if index == 0:\n",
    "            dict_train_mfcc[c] = np.zeros(((len(data[c])), n_mfcc))\n",
    "        else:\n",
    "            dict_test_mfcc[c] = np.zeros(((len(data[c])), n_mfcc))\n",
    "        #temp_features = np.zeros(((len(data[c])), n_mfcc))\n",
    "        # compute mfcc\n",
    "        for index2, f in enumerate(data[c]):\n",
    "            audio, fs = librosa.load(os.path.join(root, f), sr=None)\n",
    "            mfcc = librosa.feature.mfcc(y=audio, sr=fs, n_mfcc=n_mfcc, n_fft=1024, n_mels=40)\n",
    "            #temp_features[index2, :] = np.mean(mfcc, axis=1)\n",
    "            # store results for current class and file\n",
    "            if index == 0:\n",
    "                dict_train_mfcc[c][index2, :] = np.mean(mfcc, axis=1)\n",
    "            else:\n",
    "                dict_test_mfcc[c][index2, :] = np.mean(mfcc, axis=1)\n",
    "print('finished')"
   ]
  },
  {
   "cell_type": "code",
   "execution_count": 26,
   "id": "experimental-convenience",
   "metadata": {},
   "outputs": [
    {
     "data": {
      "text/plain": [
       "array([[-1.37122299e+02,  7.75059967e+01,  1.59639025e+01, ...,\n",
       "        -3.98335844e-01,  2.91935176e-01,  1.79731810e+00],\n",
       "       [-1.64826126e+02,  2.86775570e+01,  1.12079573e+01, ...,\n",
       "        -1.27427940e+01, -3.38828683e+00, -7.15866280e+00],\n",
       "       [-1.43726212e+02,  5.05516357e+01,  2.87539406e+01, ...,\n",
       "        -1.54553497e+00,  1.16297913e+00, -1.39292940e-01],\n",
       "       ...,\n",
       "       [-1.61628998e+02,  3.95840721e+01,  3.59555168e+01, ...,\n",
       "        -1.01582158e+00, -2.45307803e+00, -5.82932591e-01],\n",
       "       [-2.19602661e+02,  5.76333122e+01,  9.97616482e+00, ...,\n",
       "        -7.58781195e+00,  2.59803271e+00, -6.61766768e-01],\n",
       "       [-2.32003708e+02,  4.84568176e+01,  1.16291227e+01, ...,\n",
       "        -5.44475126e+00,  3.70439202e-01, -9.12064791e-01]])"
      ]
     },
     "execution_count": 26,
     "metadata": {},
     "output_type": "execute_result"
    }
   ],
   "source": []
  },
  {
   "cell_type": "markdown",
   "id": "shaped-comfort",
   "metadata": {},
   "source": [
    "# GMM"
   ]
  },
  {
   "cell_type": "code",
   "execution_count": 27,
   "id": "utility-footwear",
   "metadata": {},
   "outputs": [],
   "source": [
    "n_components = 3\n",
    "gmm=np.empty(10,object) #define gmmlike an empty array with shape =10 and type: object"
   ]
  },
  {
   "cell_type": "code",
   "execution_count": 36,
   "id": "threatened-beginning",
   "metadata": {},
   "outputs": [],
   "source": [
    "#define the with all the coeffifients of all the classes \n",
    "dict_train_mfcc_all = ([dict_train_mfcc['zero'], dict_train_mfcc['one'],dict_train_mfcc['two'],dict_train_mfcc['three'],\n",
    "                                    dict_train_mfcc['four'],dict_train_mfcc['five'], dict_train_mfcc['six'], dict_train_mfcc['seven'],\n",
    "                                     dict_train_mfcc['eight'], dict_train_mfcc['nine'] ])\n",
    "dict_test_mfcc_all= np.concatenate((dict_test_mfcc['zero'],dict_test_mfcc['one'],dict_test_mfcc['two'],\n",
    "                                   dict_test_mfcc['three'],dict_test_mfcc['four'],dict_test_mfcc['five'],\n",
    "                                   dict_test_mfcc['six'],dict_test_mfcc['seven'],dict_test_mfcc['eight'],dict_test_mfcc['nine']),axis=0)"
   ]
  },
  {
   "cell_type": "code",
   "execution_count": 29,
   "id": "variable-singapore",
   "metadata": {},
   "outputs": [],
   "source": [
    "#define gmm for each class\n",
    "for i in range(10):\n",
    "    gmm[i]= BayesianGaussianMixture(n_components=n_components, random_state=2)\n",
    "    gmm[i].fit(dict_train_mfcc_all[i])"
   ]
  },
  {
   "cell_type": "code",
   "execution_count": 30,
   "id": "likely-homework",
   "metadata": {},
   "outputs": [
    {
     "data": {
      "text/plain": [
       "array([[-1.44910736e+02,  3.88439279e+01,  2.83160166e+01,\n",
       "         1.38913025e+01, -4.84675010e+00, -1.11519734e+01,\n",
       "        -2.52919338e+00, -8.58233635e+00, -9.24556467e+00,\n",
       "        -3.04577086e+00, -3.03724606e-01, -1.81399409e-01,\n",
       "         1.94662462e-01],\n",
       "       [-2.34141393e+02,  3.27109682e+01,  2.07834491e+01,\n",
       "         1.83042776e+01, -1.19040635e+01, -2.43336645e-01,\n",
       "        -9.17205059e+00, -5.99853755e+00, -6.19740996e+00,\n",
       "        -3.15762593e+00, -1.40679870e+00,  3.62884660e-01,\n",
       "        -1.61640461e+00],\n",
       "       [-1.56741054e+02,  6.46092533e+00,  2.21074562e+01,\n",
       "         1.12050416e+01, -1.90003012e+01, -2.12884099e+01,\n",
       "        -1.37429518e+01, -1.79434917e+01, -1.70335265e+01,\n",
       "        -4.38517978e+00, -1.36297798e+01, -4.67634393e+00,\n",
       "        -8.80783350e+00]])"
      ]
     },
     "execution_count": 30,
     "metadata": {},
     "output_type": "execute_result"
    }
   ],
   "source": [
    "gmm[3].means_ #check"
   ]
  },
  {
   "cell_type": "code",
   "execution_count": 31,
   "id": "super-edward",
   "metadata": {},
   "outputs": [
    {
     "name": "stdout",
     "output_type": "stream",
     "text": [
      "finished\n"
     ]
    }
   ],
   "source": [
    "mixt_pdf_0 = []\n",
    "mixt_pdf_1 = []\n",
    "mixt_pdf_2 = []\n",
    "mixt_pdf_3 = []\n",
    "mixt_pdf_4 = []\n",
    "mixt_pdf_5 = []\n",
    "mixt_pdf_6 = []\n",
    "mixt_pdf_7 = []\n",
    "mixt_pdf_8 = []\n",
    "mixt_pdf_9 = []\n",
    "\n",
    "\n",
    "sample_0 = []\n",
    "sample_1 = []\n",
    "sample_2 = []\n",
    "sample_3 = []\n",
    "sample_4 = []\n",
    "sample_5 = []\n",
    "sample_6 = []\n",
    "sample_7 = []\n",
    "sample_8 = []\n",
    "sample_9 = []\n",
    "\n",
    "\n",
    "for n in np.arange(n_components):\n",
    "    mixt_gauss_0 = sp.stats.multivariate_normal(gmm[0].means_[n, :], gmm[0].covariances_[n, :], allow_singular=True)\n",
    "    mixt_gauss_1 = sp.stats.multivariate_normal(gmm[1].means_[n, :], gmm[1].covariances_[n, :], allow_singular=True)\n",
    "    mixt_gauss_2 = sp.stats.multivariate_normal(gmm[2].means_[n, :], gmm[2].covariances_[n, :], allow_singular=True)\n",
    "    mixt_gauss_3 = sp.stats.multivariate_normal(gmm[3].means_[n, :], gmm[3].covariances_[n, :], allow_singular=True)\n",
    "    mixt_gauss_4 = sp.stats.multivariate_normal(gmm[4].means_[n, :], gmm[4].covariances_[n, :], allow_singular=True)\n",
    "    mixt_gauss_5 = sp.stats.multivariate_normal(gmm[5].means_[n, :], gmm[5].covariances_[n, :], allow_singular=True)\n",
    "    mixt_gauss_6 = sp.stats.multivariate_normal(gmm[6].means_[n, :], gmm[6].covariances_[n, :], allow_singular=True)\n",
    "    mixt_gauss_7 = sp.stats.multivariate_normal(gmm[7].means_[n, :], gmm[7].covariances_[n, :], allow_singular=True)\n",
    "    mixt_gauss_8 = sp.stats.multivariate_normal(gmm[8].means_[n, :], gmm[8].covariances_[n, :], allow_singular=True)\n",
    "    mixt_gauss_9 = sp.stats.multivariate_normal(gmm[9].means_[n, :], gmm[9].covariances_[n, :], allow_singular=True)\n",
    "    \n",
    "    \n",
    "    # fix pdf\n",
    "    mixt_pdf_0.append(gmm[0].weights_[n] * mixt_gauss_0.pdf(dict_test_mfcc_all))\n",
    "    mixt_pdf_1.append(gmm[1].weights_[n] * mixt_gauss_1.pdf(dict_test_mfcc_all))\n",
    "    mixt_pdf_2.append(gmm[2].weights_[n] * mixt_gauss_2.pdf(dict_test_mfcc_all))\n",
    "    mixt_pdf_3.append(gmm[3].weights_[n] * mixt_gauss_3.pdf(dict_test_mfcc_all))\n",
    "    mixt_pdf_4.append(gmm[4].weights_[n] * mixt_gauss_4.pdf(dict_test_mfcc_all))\n",
    "    mixt_pdf_5.append(gmm[5].weights_[n] * mixt_gauss_5.pdf(dict_test_mfcc_all))\n",
    "    mixt_pdf_6.append(gmm[6].weights_[n] * mixt_gauss_6.pdf(dict_test_mfcc_all))\n",
    "    mixt_pdf_7.append(gmm[7].weights_[n] * mixt_gauss_7.pdf(dict_test_mfcc_all))\n",
    "    mixt_pdf_8.append(gmm[8].weights_[n] * mixt_gauss_8.pdf(dict_test_mfcc_all))\n",
    "    mixt_pdf_9.append(gmm[9].weights_[n] * mixt_gauss_9.pdf(dict_test_mfcc_all))\n",
    "    \n",
    "    \n",
    "    sample_0.append(mixt_gauss_0.rvs(np.int(500 * gmm[0].weights_[n])))\n",
    "    sample_1.append(mixt_gauss_1.rvs(np.int(500 * gmm[1].weights_[n])))\n",
    "    sample_2.append(mixt_gauss_2.rvs(np.int(500 * gmm[2].weights_[n])))\n",
    "    sample_3.append(mixt_gauss_3.rvs(np.int(500 * gmm[3].weights_[n])))\n",
    "    sample_4.append(mixt_gauss_4.rvs(np.int(500 * gmm[4].weights_[n])))\n",
    "    sample_5.append(mixt_gauss_5.rvs(np.int(500 * gmm[5].weights_[n])))\n",
    "    sample_6.append(mixt_gauss_6.rvs(np.int(500 * gmm[6].weights_[n])))\n",
    "    sample_7.append(mixt_gauss_7.rvs(np.int(500 * gmm[7].weights_[n])))\n",
    "    sample_8.append(mixt_gauss_8.rvs(np.int(500 * gmm[8].weights_[n])))\n",
    "    sample_9.append(mixt_gauss_9.rvs(np.int(500 * gmm[9].weights_[n])))\n",
    "print(\"finished\")"
   ]
  },
  {
   "cell_type": "code",
   "execution_count": 40,
   "id": "quality-fraction",
   "metadata": {},
   "outputs": [],
   "source": [
    "pdf_0 = np.sum(mixt_pdf_0, axis=0).reshape(-1, 1)\n",
    "pdf_1 = np.sum(mixt_pdf_1, axis=0).reshape(-1, 1)\n",
    "pdf_2 = np.sum(mixt_pdf_2, axis=0).reshape(-1, 1)\n",
    "pdf_3 = np.sum(mixt_pdf_3, axis=0).reshape(-1, 1)\n",
    "pdf_4 = np.sum(mixt_pdf_4, axis=0).reshape(-1, 1)\n",
    "pdf_5 = np.sum(mixt_pdf_5, axis=0).reshape(-1, 1)\n",
    "pdf_6 = np.sum(mixt_pdf_6, axis=0).reshape(-1, 1)\n",
    "pdf_7 = np.sum(mixt_pdf_7, axis=0).reshape(-1, 1)\n",
    "pdf_8 = np.sum(mixt_pdf_8, axis=0).reshape(-1, 1)\n",
    "pdf_9 = np.sum(mixt_pdf_9, axis=0).reshape(-1, 1)\n",
    "#concatenate all the pdf \n",
    "pdf = np.concatenate((pdf_0, pdf_1, pdf_2, pdf_3, pdf_4, pdf_5,pdf_6, pdf_7, pdf_8,pdf_9), axis=1)\n",
    "predicted_test_labels = np.argmax(pdf, axis=1)\n",
    "\n",
    "Y_train = np.concatenate((np.zeros(dict_train_mfcc['zero'].shape[0]), np.ones(dict_train_mfcc['one'].shape[0]), np.ones(dict_train_mfcc['two'].shape[0])*2, np.ones(dict_train_mfcc['three'].shape[0])*3, np.ones(dict_train_mfcc['four'].shape[0])*4, np.ones(dict_train_mfcc['five'].shape[0])*5, np.ones(dict_train_mfcc['six'].shape[0])*6, np.ones(dict_train_mfcc['seven'].shape[0])*7, np.ones(dict_train_mfcc['eight'].shape[0])*8, np.ones(dict_train_mfcc['nine'].shape[0])*9), axis=0)\n",
    "Y_test = np.concatenate((np.zeros(dict_test_mfcc['zero'].shape[0]), np.ones(dict_test_mfcc['one'].shape[0]), np.ones(dict_test_mfcc['two'].shape[0])*2, np.ones(dict_test_mfcc['three'].shape[0])*3, np.ones(dict_test_mfcc['four'].shape[0])*4, np.ones(dict_test_mfcc['five'].shape[0])*5, np.ones(dict_test_mfcc['six'].shape[0])*6, np.ones(dict_test_mfcc['seven'].shape[0])*7, np.ones(dict_test_mfcc['eight'].shape[0])*8, np.ones(dict_test_mfcc['nine'].shape[0])*9), axis=0)"
   ]
  },
  {
   "cell_type": "markdown",
   "id": "religious-index",
   "metadata": {},
   "source": [
    "## plot stats"
   ]
  },
  {
   "cell_type": "code",
   "execution_count": 41,
   "id": "ongoing-organization",
   "metadata": {},
   "outputs": [
    {
     "name": "stdout",
     "output_type": "stream",
     "text": [
      "Results: \n",
      " accuracy = 0.9333333333333333 \n",
      " precision = 0.9359178187403994 \n",
      " recall = 0.9333333333333333 \n",
      " F1 score = 0.9334502264756281\n"
     ]
    }
   ],
   "source": [
    "from sklearn import metrics\n",
    "accuracy = metrics.accuracy_score(Y_test, predicted_test_labels, normalize=True)\n",
    "precision = metrics.precision_score(Y_test, predicted_test_labels, average='weighted')\n",
    "recall = metrics.recall_score(Y_test, predicted_test_labels, average='weighted')\n",
    "F1_score = metrics.f1_score(Y_test, predicted_test_labels, average='weighted')\n",
    "print(\"Results: \\n accuracy = {} \\n precision = {} \\n recall = {} \\n F1 score = {}\".format(\n",
    "        accuracy, precision, recall, F1_score))"
   ]
  },
  {
   "cell_type": "markdown",
   "id": "closed-party",
   "metadata": {},
   "source": [
    "# PLOT SAMPLES"
   ]
  },
  {
   "cell_type": "code",
   "execution_count": 33,
   "id": "conservative-pleasure",
   "metadata": {},
   "outputs": [
    {
     "name": "stdout",
     "output_type": "stream",
     "text": [
      "Using matplotlib backend: Qt5Agg\n"
     ]
    }
   ],
   "source": [
    "#plot the 3D figure\n",
    "from mpl_toolkits.mplot3d import Axes3D\n",
    "%matplotlib\n",
    "fig = plt.figure(figsize=(16, 8))\n",
    "ax = fig.add_subplot(111, projection='3d')\n",
    "\n",
    "markers = ['x', 'o', '*']\n",
    "\n",
    "for n in np.arange(n_components):\n",
    "    x = sample_0[n][:, 0]\n",
    "    y = sample_0[n][:, 1]\n",
    "    z = sample_0[n][:, 2]\n",
    "    ax.scatter(x, y, z, c='red', marker=markers[n])\n",
    "    \n",
    "    x = sample_1[n][:, 0]\n",
    "    y = sample_1[n][:, 1]\n",
    "    z = sample_1[n][:, 2]\n",
    "    ax.scatter(x, y, z, c='blue', marker=markers[n])\n",
    "    \n",
    "    x = sample_2[n][:, 0]\n",
    "    y = sample_2[n][:, 1]\n",
    "    z = sample_2[n][:, 2]\n",
    "    ax.scatter(x, y, z, c='yellow', marker=markers[n])\n",
    "    \n",
    "    x = sample_3[n][:, 0]\n",
    "    y = sample_3[n][:, 1]\n",
    "    z = sample_3[n][:, 2]\n",
    "    ax.scatter(x, y, z, c='green', marker=markers[n])\n",
    "    \n",
    "    x = sample_4[n][:, 0]\n",
    "    y = sample_4[n][:, 1]\n",
    "    z = sample_4[n][:, 2]\n",
    "    ax.scatter(x, y, z, c='purple', marker=markers[n])\n",
    "    \n",
    "    x = sample_5[n][:, 0]\n",
    "    y = sample_5[n][:, 1]\n",
    "    z = sample_5[n][:, 2]\n",
    "    ax.scatter(x, y, z, c='orange', marker=markers[n])\n",
    "    \n",
    "    x = sample_6[n][:, 0]\n",
    "    y = sample_6[n][:, 1]\n",
    "    z = sample_6[n][:, 2]\n",
    "    ax.scatter(x, y, z, c='black', marker=markers[n])\n",
    "    \n",
    "    x = sample_7[n][:, 0]\n",
    "    y = sample_7[n][:, 1]\n",
    "    z = sample_7[n][:, 2]\n",
    "    ax.scatter(x, y, z, c='grey', marker=markers[n])\n",
    "    \n",
    "    x = sample_8[n][:, 0]\n",
    "    y = sample_8[n][:, 1]\n",
    "    z = sample_8[n][:, 2]\n",
    "    ax.scatter(x, y, z, c='brown', marker=markers[n])\n",
    "    \n",
    "    x = sample_9[n][:, 0]\n",
    "    y = sample_9[n][:, 1]\n",
    "    z = sample_9[n][:, 2]\n",
    "    ax.scatter(x, y, z, c='pink', marker=markers[n])\n",
    "    \n",
    "plt.show()"
   ]
  },
  {
   "cell_type": "markdown",
   "id": "dynamic-chemical",
   "metadata": {},
   "source": [
    "## plot metrics"
   ]
  },
  {
   "cell_type": "code",
   "execution_count": null,
   "id": "amazing-valuation",
   "metadata": {},
   "outputs": [],
   "source": []
  }
 ],
 "metadata": {
  "kernelspec": {
   "display_name": "Python 3",
   "language": "python",
   "name": "python3"
  },
  "language_info": {
   "codemirror_mode": {
    "name": "ipython",
    "version": 3
   },
   "file_extension": ".py",
   "mimetype": "text/x-python",
   "name": "python",
   "nbconvert_exporter": "python",
   "pygments_lexer": "ipython3",
   "version": "3.7.10"
  }
 },
 "nbformat": 4,
 "nbformat_minor": 5
}
