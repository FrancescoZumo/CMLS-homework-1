{
 "cells": [
  {
   "cell_type": "markdown",
   "id": "individual-banana",
   "metadata": {},
   "source": [
    "# Spoken Digit Classification"
   ]
  },
  {
   "cell_type": "code",
   "execution_count": 24,
   "id": "alleged-traffic",
   "metadata": {},
   "outputs": [],
   "source": [
    "import numpy as np\n",
    "import librosa\n",
    "import os\n",
    "import matplotlib.pyplot as plt\n",
    "import sklearn.svm\n",
    "import IPython.display as ipd\n",
    "import scipy as sp\n",
    "%matplotlib inline\n",
    "from sklearn.mixture import BayesianGaussianMixture\n",
    "# import seaborn as sns"
   ]
  },
  {
   "cell_type": "markdown",
   "id": "average-circumstances",
   "metadata": {},
   "source": [
    "## import recordings"
   ]
  },
  {
   "cell_type": "code",
   "execution_count": 23,
   "id": "differential-therapist",
   "metadata": {},
   "outputs": [
    {
     "data": {
      "text/plain": [
       "1500"
      ]
     },
     "execution_count": 23,
     "metadata": {},
     "output_type": "execute_result"
    }
   ],
   "source": [
    "# define the 10 classes\n",
    "classes = ['zero', 'one', 'two', 'three', 'four', 'five', 'six', 'seven', 'eight', 'nine']\n",
    "\n",
    "# initialize train features\n",
    "train_features = {'zero': [], 'one': [], 'two': [], 'three': [], 'four': [], 'five': [], 'six': [], 'seven': [], 'eight': [], 'nine': []}\n",
    "\n",
    "train_root = '../free-spoken-digit-dataset/recordings'\n",
    "for c in classes:\n",
    "    class_train_files = []\n",
    "    for f in os.listdir(train_root):\n",
    "        if int(f[-5]) % 2 == 0:\n",
    "            #print(\"{} è pari\".format(f[-5]))\n",
    "            class_train_files.append(f)\n",
    "\n",
    "# check length of train files\n",
    "len(class_train_files)"
   ]
  },
  {
   "cell_type": "code",
   "execution_count": null,
   "id": "cultural-subsection",
   "metadata": {},
   "outputs": [],
   "source": []
  }
 ],
 "metadata": {
  "kernelspec": {
   "display_name": "Python 3",
   "language": "python",
   "name": "python3"
  },
  "language_info": {
   "codemirror_mode": {
    "name": "ipython",
    "version": 3
   },
   "file_extension": ".py",
   "mimetype": "text/x-python",
   "name": "python",
   "nbconvert_exporter": "python",
   "pygments_lexer": "ipython3",
   "version": "3.7.10"
  }
 },
 "nbformat": 4,
 "nbformat_minor": 5
}
