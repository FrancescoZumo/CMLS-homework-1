{
 "cells": [
  {
   "cell_type": "markdown",
   "id": "successful-stretch",
   "metadata": {},
   "source": [
    "# Spoken Digit Classification"
   ]
  },
  {
   "cell_type": "code",
   "execution_count": null,
   "id": "alleged-traffic",
   "metadata": {},
   "outputs": [],
   "source": [
    "import numpy as np\n",
    "import librosa\n",
    "import os\n",
    "import matplotlib.pyplot as plt\n",
    "import sklearn.svm\n",
    "import IPython.display as ipd\n",
    "import scipy as sp\n",
    "%matplotlib inline\n",
    "from sklearn.mixture import BayesianGaussianMixture\n",
    "# import seaborn as sns\n"
   ]
  },
  {
   "cell_type": "markdown",
   "id": "annoying-builder",
   "metadata": {},
   "source": [
    "# Define features"
   ]
  },
  {
   "cell_type": "markdown",
   "id": "emerging-elements",
   "metadata": {},
   "source": [
    "## Zero crossing rate"
   ]
  },
  {
   "cell_type": "code",
   "execution_count": null,
   "id": "instrumental-intent",
   "metadata": {},
   "outputs": [],
   "source": [
    "def compute_zcr(win, Fs):\n",
    "    # returns an array of 1 (value > 0) and 0 (value < 0)\n",
    "    win_sign = np.sign(win)\n",
    "    # length calculated across input dimension (in this case 0)\n",
    "    N = win.shape[0]\n",
    "    # difference inside the formula \n",
    "    # (NB win_sign[:-1] means from first to the second last, so the last is excluded)\n",
    "    sign_diff = np.abs(win_sign[:-1] - win_sign[1:])\n",
    "    \n",
    "    zcr = np.sum(sign_diff) * Fs / (2 * N)\n",
    "    zcr = len(sign_diff[sign_diff != 0]) * Fs / N\n",
    "    return zcr"
   ]
  },
  {
   "cell_type": "markdown",
   "id": "executed-triumph",
   "metadata": {},
   "source": [
    "## Spectral decrease"
   ]
  },
  {
   "cell_type": "code",
   "execution_count": null,
   "id": "specified-transition",
   "metadata": {},
   "outputs": [],
   "source": [
    "def compute_specdec(spec):\n",
    "    mul_fact = 1 / (np.sum(np.abs(spec[1:])))\n",
    "    num = np.abs(spec[1:]) - np.abs(spec[0])\n",
    "    den = np.arange(1, len(spec)) - 1\n",
    "    den[den == 0] = 1\n",
    "    spectral_decrease = mul_fact * np.sum(num / den)\n",
    "    return spectral_decrease"
   ]
  },
  {
   "cell_type": "markdown",
   "id": "bronze-architect",
   "metadata": {},
   "source": [
    "## Spectral centroid"
   ]
  },
  {
   "cell_type": "code",
   "execution_count": null,
   "id": "committed-steal",
   "metadata": {},
   "outputs": [],
   "source": [
    "def compute_speccentr(spec, Fs):\n",
    "    freq_axis = np.linspace(0, Fs//2, len(spec))\n",
    "    centr = np.dot(freq_axis, np.abs(spec)) / np.sum(np.abs(spec), axis = 0)\n",
    "    return centr"
   ]
  },
  {
   "cell_type": "markdown",
   "id": "italic-fields",
   "metadata": {},
   "source": [
    "## MFCC"
   ]
  },
  {
   "cell_type": "code",
   "execution_count": null,
   "id": "normal-orleans",
   "metadata": {},
   "outputs": [],
   "source": [
    "def compute_mfcc(audio, fs, n_mfcc):\n",
    "    # Compute the spectrogram of the audio signal\n",
    "    X = np.abs(librosa.stft(\n",
    "        audio,\n",
    "        window='hamming',\n",
    "        n_fft=1024,\n",
    "        hop_length=512,)\n",
    "        )\n",
    "    \n",
    "    # Find the weights of the mel filters\n",
    "    mel = librosa.filters.mel(\n",
    "        sr=fs,\n",
    "        n_fft=1024,\n",
    "        n_mels=40,\n",
    "        fmin=133.33,\n",
    "        fmax=6853.8,\n",
    "    )\n",
    "    \n",
    "    # Apply the filters to spectrogram\n",
    "    melspectrogram = np.dot(mel, X)\n",
    "    # Take the logarithm\n",
    "    log_melspectrogram = np.log10(melspectrogram + 1e-16)\n",
    "    \n",
    "    # Apply the DCT to log melspectrogram to obtain the coefficients\n",
    "    mfcc = sp.fftpack.dct(log_melspectrogram, axis=0, norm='ortho')[1:n_mfcc+1]\n",
    "    return mfcc"
   ]
  },
  {
   "cell_type": "markdown",
   "id": "identified-courage",
   "metadata": {},
   "source": [
    "## import recordings"
   ]
  },
  {
   "cell_type": "code",
   "execution_count": null,
   "id": "unknown-correction",
   "metadata": {
    "scrolled": true
   },
   "outputs": [],
   "source": [
    "# define the 10 classes\n",
    "classes = ['zero', 'one', 'two', 'three', 'four', 'five', 'six', 'seven', 'eight', 'nine']\n",
    "\n",
    "root = '../free-spoken-digit-dataset/recordings'\n",
    "for c in classes:\n",
    "    # train array (for now it will contain all even recordings)\n",
    "    class_train_files = []\n",
    "    # test array (for now it will contain all odd recordings)\n",
    "    class_test_files = []\n",
    "    \n",
    "    for f in os.listdir(root):\n",
    "        if int(f[-5]) % 2 == 0:\n",
    "            #print(\"{} è pari\".format(f[-5]))\n",
    "            class_train_files.append(f)\n",
    "        else:\n",
    "            #print(\"{} è dispari\".format(f[-5]))\n",
    "            class_test_files.append(f)\n",
    "\n",
    "# check length of train and test arrays\n",
    "n_train_samples = len(class_train_files)\n",
    "n_test_samples = len(class_test_files)\n",
    "\n",
    "print(\"number of train files: {}\".format(n_train_samples))\n",
    "print(\"number of test files: {}\".format(n_test_samples))"
   ]
  },
  {
   "cell_type": "code",
   "execution_count": null,
   "id": "urban-validity",
   "metadata": {},
   "outputs": [],
   "source": [
    "# listen to an audio file\n",
    "audio, fs = librosa.load(os.path.join(train_root, class_train_files[0]), sr=None)\n",
    "ipd.Audio(audio, rate=fs) # load the file"
   ]
  },
  {
   "cell_type": "markdown",
   "id": "modular-station",
   "metadata": {},
   "source": [
    "## compute MFCC"
   ]
  },
  {
   "cell_type": "code",
   "execution_count": null,
   "id": "lightweight-chocolate",
   "metadata": {},
   "outputs": [],
   "source": [
    "# initialize dictionaries\n",
    "dict_train_features = {'zero': [], 'one': [], 'two': [], 'three': [], 'four': [], 'five': [], 'six': [], 'seven': [], 'eight': [], 'nine': []}\n",
    "dict_test_features = {'zero': [], 'one': [], 'two': [], 'three': [], 'four': [], 'five': [], 'six': [], 'seven': [], 'eight': [], 'nine': []}\n",
    "\n",
    "\n",
    "# why 13? try different values. check warning\n",
    "n_mfcc = 13\n",
    "\n",
    "for c in classes:\n",
    "    train_features = np.zeros((n_train_samples, n_mfcc))\n",
    "    for index, f in enumerate(class_train_files):\n",
    "        audio, fs = librosa.load(os.path.join(root, f), sr=None)\n",
    "        mfcc = compute_mfcc(audio, fs, n_mfcc)\n",
    "        train_features[index, :] = np.mean(mfcc, axis=1)\n",
    "    dict_train_features[c] = train_features\n",
    "    \n",
    "    test_features = np.zeros((n_test_samples, n_mfcc))\n",
    "    for index, f in enumerate(class_test_files):\n",
    "        audio, fs = librosa.load(os.path.join(root, f), sr=None)\n",
    "        mfcc = compute_mfcc(audio, fs, n_mfcc)\n",
    "        test_features[index, :] = np.mean(mfcc, axis=1)\n",
    "    dict_test_features[c] = test_features\n",
    "    \n"
   ]
  },
  {
   "cell_type": "markdown",
   "id": "parallel-chain",
   "metadata": {},
   "source": [
    "## compute other features"
   ]
  },
  {
   "cell_type": "code",
   "execution_count": null,
   "id": "pretty-moment",
   "metadata": {},
   "outputs": [],
   "source": [
    "features_names = ['Zero Crossing Rate', 'Spectral Decrease', 'Spectral Centroid']\n",
    "\n",
    "# check parameters\n",
    "win_length = int(np.floor(0.01 * fs))\n",
    "hop_size = int(np.floor(0.0075 * fs))\n",
    "\n",
    "window = sp.signal.get_window(window='hanning', Nx=win_length)\n",
    "n_features = len(features_names)"
   ]
  },
  {
   "cell_type": "code",
   "execution_count": 52,
   "id": "likely-casino",
   "metadata": {},
   "outputs": [
    {
     "ename": "AttributeError",
     "evalue": "'numpy.ndarray' object has no attribute 'append'",
     "output_type": "error",
     "traceback": [
      "\u001b[0;31m---------------------------------------------------------------------------\u001b[0m",
      "\u001b[0;31mAttributeError\u001b[0m                            Traceback (most recent call last)",
      "\u001b[0;32m<ipython-input-52-843e3fcef20e>\u001b[0m in \u001b[0;36m<module>\u001b[0;34m\u001b[0m\n\u001b[1;32m     23\u001b[0m             \u001b[0maudio_features\u001b[0m\u001b[0;34m[\u001b[0m\u001b[0mi\u001b[0m\u001b[0;34m,\u001b[0m \u001b[0;36m2\u001b[0m\u001b[0;34m]\u001b[0m \u001b[0;34m=\u001b[0m \u001b[0mcompute_speccentr\u001b[0m\u001b[0;34m(\u001b[0m\u001b[0mspec\u001b[0m\u001b[0;34m,\u001b[0m \u001b[0mfs\u001b[0m\u001b[0;34m)\u001b[0m\u001b[0;34m\u001b[0m\u001b[0;34m\u001b[0m\u001b[0m\n\u001b[1;32m     24\u001b[0m \u001b[0;34m\u001b[0m\u001b[0m\n\u001b[0;32m---> 25\u001b[0;31m         \u001b[0mtrain_basic_features\u001b[0m\u001b[0;34m.\u001b[0m\u001b[0mappend\u001b[0m\u001b[0;34m(\u001b[0m\u001b[0maudio_features\u001b[0m\u001b[0;34m)\u001b[0m\u001b[0;34m\u001b[0m\u001b[0;34m\u001b[0m\u001b[0m\n\u001b[0m\u001b[1;32m     26\u001b[0m \u001b[0;34m\u001b[0m\u001b[0m\n\u001b[1;32m     27\u001b[0m \u001b[0mprint\u001b[0m\u001b[0;34m(\u001b[0m\u001b[0;34m\"finished\"\u001b[0m\u001b[0;34m)\u001b[0m\u001b[0;34m\u001b[0m\u001b[0;34m\u001b[0m\u001b[0m\n",
      "\u001b[0;31mAttributeError\u001b[0m: 'numpy.ndarray' object has no attribute 'append'"
     ]
    }
   ],
   "source": [
    "\n",
    "train_basic_features = np.array([])\n",
    "# for each class\n",
    "for c in classes:\n",
    "    \n",
    "    # for each train audio file\n",
    "    for index, f in enumerate(class_train_files):\n",
    "        audio, fs = librosa.load(os.path.join(root, f), sr=None)\n",
    "        train_win_number = int(np.floor(audio.shape[0] - win_length) / hop_size)\n",
    "        \n",
    "        audio_features = np.zeros((train_win_number, n_features))\n",
    "        \n",
    "        for i in np.arange(train_win_number):\n",
    "            frame = audio[i * hop_size : i * hop_size + win_length]\n",
    "            frame_wind = frame * window\n",
    "\n",
    "            spec = np.fft.fft(frame_wind)\n",
    "            nyquist = int(np.floor(spec.shape[0] / 2))\n",
    "            spec = spec[1:nyquist]\n",
    "\n",
    "            audio_features[i, 0] = compute_zcr(frame_wind, fs)\n",
    "            audio_features[i, 1] = compute_specdec(spec)\n",
    "            audio_features[i, 2] = compute_speccentr(spec, fs)\n",
    "        \n",
    "        train_basic_features.append(audio_features)\n",
    "\n",
    "print(\"finished\")"
   ]
  },
  {
   "cell_type": "code",
   "execution_count": null,
   "id": "consolidated-township",
   "metadata": {},
   "outputs": [],
   "source": []
  },
  {
   "cell_type": "code",
   "execution_count": null,
   "id": "following-independence",
   "metadata": {},
   "outputs": [],
   "source": []
  },
  {
   "cell_type": "code",
   "execution_count": null,
   "id": "hairy-royalty",
   "metadata": {},
   "outputs": [],
   "source": []
  },
  {
   "cell_type": "markdown",
   "id": "nearby-frame",
   "metadata": {},
   "source": [
    "### Notes"
   ]
  },
  {
   "cell_type": "code",
   "execution_count": null,
   "id": "geographic-alexandria",
   "metadata": {},
   "outputs": [],
   "source": []
  },
  {
   "cell_type": "code",
   "execution_count": null,
   "id": "educational-briefing",
   "metadata": {},
   "outputs": [],
   "source": [
    "# maybe check if volume is constant in each recording\n",
    "# also duration seems to change, is this a problem?"
   ]
  },
  {
   "cell_type": "code",
   "execution_count": null,
   "id": "secure-preparation",
   "metadata": {},
   "outputs": [],
   "source": []
  }
 ],
 "metadata": {
  "kernelspec": {
   "display_name": "Python 3",
   "language": "python",
   "name": "python3"
  },
  "language_info": {
   "codemirror_mode": {
    "name": "ipython",
    "version": 3
   },
   "file_extension": ".py",
   "mimetype": "text/x-python",
   "name": "python",
   "nbconvert_exporter": "python",
   "pygments_lexer": "ipython3",
   "version": "3.7.10"
  }
 },
 "nbformat": 4,
 "nbformat_minor": 5
}
