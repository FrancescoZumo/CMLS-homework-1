{
 "cells": [
  {
   "cell_type": "markdown",
   "id": "successful-stretch",
   "metadata": {},
   "source": [
    "# Spoken Digit Classification"
   ]
  },
  {
   "cell_type": "code",
   "execution_count": 15,
   "id": "alleged-traffic",
   "metadata": {},
   "outputs": [],
   "source": [
    "import numpy as np\n",
    "import librosa\n",
    "import os\n",
    "import matplotlib.pyplot as plt\n",
    "import sklearn.svm\n",
    "import IPython.display as ipd\n",
    "import scipy as sp\n",
    "%matplotlib inline\n",
    "from sklearn.mixture import BayesianGaussianMixture\n",
    "# import seaborn as sns\n"
   ]
  },
  {
   "cell_type": "markdown",
   "id": "annoying-builder",
   "metadata": {},
   "source": [
    "# Define features"
   ]
  },
  {
   "cell_type": "markdown",
   "id": "emerging-elements",
   "metadata": {},
   "source": [
    "## Zero crossing rate"
   ]
  },
  {
   "cell_type": "code",
   "execution_count": 16,
   "id": "instrumental-intent",
   "metadata": {},
   "outputs": [],
   "source": [
    "def compute_zcr(win, Fs):\n",
    "    # returns an array of 1 (value > 0) and 0 (value < 0)\n",
    "    win_sign = np.sign(win)\n",
    "    # length calculated across input dimension (in this case 0)\n",
    "    N = win.shape[0]\n",
    "    # difference inside the formula \n",
    "    # (NB win_sign[:-1] means from first to the second last, so the last is excluded)\n",
    "    sign_diff = np.abs(win_sign[:-1] - win_sign[1:])\n",
    "    \n",
    "    zcr = np.sum(sign_diff) * Fs / (2 * N)\n",
    "    zcr = len(sign_diff[sign_diff != 0]) * Fs / N\n",
    "    return zcr"
   ]
  },
  {
   "cell_type": "markdown",
   "id": "executed-triumph",
   "metadata": {},
   "source": [
    "## Spectral decrease"
   ]
  },
  {
   "cell_type": "code",
   "execution_count": 17,
   "id": "specified-transition",
   "metadata": {},
   "outputs": [],
   "source": [
    "def compute_specdec(spec):\n",
    "    mul_fact = 1 / (np.sum(np.abs(spec[1:])))\n",
    "    num = np.abs(spec[1:]) - np.abs(spec[0])\n",
    "    den = np.arange(1, len(spec)) - 1\n",
    "    den[den == 0] = 1\n",
    "    spectral_decrease = mul_fact * np.sum(num / den)\n",
    "    return spectral_decrease"
   ]
  },
  {
   "cell_type": "markdown",
   "id": "bronze-architect",
   "metadata": {},
   "source": [
    "## Spectral centroid"
   ]
  },
  {
   "cell_type": "code",
   "execution_count": 18,
   "id": "committed-steal",
   "metadata": {},
   "outputs": [],
   "source": [
    "def compute_speccentr(spec, Fs):\n",
    "    freq_axis = np.linspace(0, Fs//2, len(spec))\n",
    "    centr = np.dot(freq_axis, np.abs(spec)) / np.sum(np.abs(spec), axis = 0)\n",
    "    return centr"
   ]
  },
  {
   "cell_type": "markdown",
   "id": "italic-fields",
   "metadata": {},
   "source": [
    "## MFCC"
   ]
  },
  {
   "cell_type": "code",
   "execution_count": 19,
   "id": "normal-orleans",
   "metadata": {},
   "outputs": [],
   "source": [
    "def compute_mfcc(audio, fs, n_mfcc):\n",
    "    # Compute the spectrogram of the audio signal\n",
    "    X = np.abs(librosa.stft(\n",
    "        audio,\n",
    "        window='hamming',\n",
    "        n_fft=1024,\n",
    "        hop_length=512,)\n",
    "        )\n",
    "    \n",
    "    # Find the weights of the mel filters\n",
    "    mel = librosa.filters.mel(\n",
    "        sr=fs,\n",
    "        n_fft=1024,\n",
    "        n_mels=40,\n",
    "        fmin=133.33,\n",
    "        fmax=6853.8,\n",
    "    )\n",
    "    \n",
    "    # Apply the filters to spectrogram\n",
    "    melspectrogram = np.dot(mel, X)\n",
    "    # Take the logarithm\n",
    "    log_melspectrogram = np.log10(melspectrogram + 1e-16)\n",
    "    \n",
    "    # Apply the DCT to log melspectrogram to obtain the coefficients\n",
    "    mfcc = sp.fftpack.dct(log_melspectrogram, axis=0, norm='ortho')[1:n_mfcc+1]\n",
    "    return mfcc"
   ]
  },
  {
   "cell_type": "markdown",
   "id": "identified-courage",
   "metadata": {},
   "source": [
    "## import recordings"
   ]
  },
  {
   "cell_type": "code",
   "execution_count": 22,
   "id": "unknown-correction",
   "metadata": {
    "scrolled": true
   },
   "outputs": [
    {
     "name": "stdout",
     "output_type": "stream",
     "text": [
      "number of train files: 1500\n",
      "number of test files: 1500\n"
     ]
    }
   ],
   "source": [
    "# define the 10 classes\n",
    "classes = ['zero', 'one', 'two', 'three', 'four', 'five', 'six', 'seven', 'eight', 'nine']\n",
    "\n",
    "root = '../free-spoken-digit-dataset/recordings'\n",
    "for c in classes:\n",
    "    # train array (for now it will contain all even recordings)\n",
    "    class_train_files = []\n",
    "    # test array (for now it will contain all odd recordings)\n",
    "    class_test_files = []\n",
    "    \n",
    "    for f in os.listdir(root):\n",
    "        if int(f[-5]) % 2 == 0:\n",
    "            #print(\"{} è pari\".format(f[-5]))\n",
    "            class_train_files.append(f)\n",
    "        else:\n",
    "            #print(\"{} è dispari\".format(f[-5]))\n",
    "            class_test_files.append(f)\n",
    "\n",
    "# check length of train and test arrays\n",
    "n_train_samples = len(class_train_files)\n",
    "n_test_samples = len(class_test_files)\n",
    "\n",
    "print(\"number of train files: {}\".format(n_train_samples))\n",
    "print(\"number of test files: {}\".format(n_test_samples))"
   ]
  },
  {
   "cell_type": "code",
   "execution_count": 24,
   "id": "urban-validity",
   "metadata": {},
   "outputs": [
    {
     "data": {
      "text/html": [
       "\n",
       "                <audio  controls=\"controls\" >\n",
       "                    <source src=\"data:audio/wav;base64,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\" type=\"audio/wav\" />\n",
       "                    Your browser does not support the audio element.\n",
       "                </audio>\n",
       "              "
      ],
      "text/plain": [
       "<IPython.lib.display.Audio object>"
      ]
     },
     "execution_count": 24,
     "metadata": {},
     "output_type": "execute_result"
    }
   ],
   "source": [
    "# listen to an audio file\n",
    "audio, fs = librosa.load(os.path.join(root, class_train_files[0]), sr=None)\n",
    "ipd.Audio(audio, rate=fs) # load the file"
   ]
  },
  {
   "cell_type": "markdown",
   "id": "modular-station",
   "metadata": {},
   "source": [
    "## compute MFCC"
   ]
  },
  {
   "cell_type": "code",
   "execution_count": 25,
   "id": "lightweight-chocolate",
   "metadata": {},
   "outputs": [
    {
     "name": "stderr",
     "output_type": "stream",
     "text": [
      "C:\\Users\\rikyd\\miniconda3\\envs\\CMLS\\lib\\site-packages\\librosa\\filters.py:239: UserWarning: Empty filters detected in mel frequency basis. Some channels will produce empty responses. Try increasing your sampling rate (and fmax) or reducing n_mels.\n",
      "  \"Empty filters detected in mel frequency basis. \"\n"
     ]
    }
   ],
   "source": [
    "# initialize dictionaries\n",
    "dict_train_features = {'zero': [], 'one': [], 'two': [], 'three': [], 'four': [], 'five': [], 'six': [], 'seven': [], 'eight': [], 'nine': []}\n",
    "dict_test_features = {'zero': [], 'one': [], 'two': [], 'three': [], 'four': [], 'five': [], 'six': [], 'seven': [], 'eight': [], 'nine': []}\n",
    "\n",
    "\n",
    "# why 13? try different values. check warning\n",
    "n_mfcc = 13\n",
    "\n",
    "for c in classes:\n",
    "    train_features = np.zeros((n_train_samples), n_mfcc))\n",
    "    for index, f in enumerate(class_train_files):\n",
    "        audio, fs = librosa.load(os.path.join(root, f), sr=None)\n",
    "        mfcc = compute_mfcc(audio, fs, n_mfcc)\n",
    "        train_features[index, :] = np.mean(mfcc, axis=1)\n",
    "    dict_train_features[c] = train_features\n",
    "    \n",
    "    test_features = np.zeros((n_test_samples), n_mfcc))\n",
    "    for index, f in enumerate(class_test_files):\n",
    "        audio, fs = librosa.load(os.path.join(root, f), sr=None)\n",
    "        mfcc = compute_mfcc(audio, fs, n_mfcc)\n",
    "        test_features[index, :] = np.mean(mfcc, axis=1)\n",
    "    dict_test_features[c] = test_features\n",
    "    \n"
   ]
  },
  {
   "cell_type": "markdown",
   "id": "parallel-chain",
   "metadata": {},
   "source": [
    "## compute other features"
   ]
  },
  {
   "cell_type": "code",
   "execution_count": 26,
   "id": "pretty-moment",
   "metadata": {},
   "outputs": [],
   "source": [
    "features_names = ['Zero Crossing Rate', 'Spectral Decrease', 'Spectral Centroid']\n",
    "\n",
    "# check parameters\n",
    "win_length = int(np.floor(0.01 * fs))\n",
    "hop_size = int(np.floor(0.0075 * fs))\n",
    "\n",
    "window = sp.signal.get_window(window='hanning', Nx=win_length)\n",
    "n_features = len(features_names)"
   ]
  },
  {
   "cell_type": "code",
   "execution_count": 35,
   "id": "likely-casino",
   "metadata": {},
   "outputs": [
    {
     "name": "stdout",
     "output_type": "stream",
     "text": [
      "finished\n"
     ]
    }
   ],
   "source": [
    "train_basic_features = []\n",
    "# for each class\n",
    "for c in classes:\n",
    "    \n",
    "    # for each train audio file\n",
    "    for index, f in enumerate(class_train_files):\n",
    "        audio, fs = librosa.load(os.path.join(root, f), sr=None)\n",
    "        train_win_number = int(np.floor(audio.shape[0] - win_length) / hop_size)\n",
    "        \n",
    "        audio_features = np.zeros((train_win_number, n_features))\n",
    "        \n",
    "        for i in np.arange(train_win_number):\n",
    "            frame = audio[i * hop_size : i * hop_size + win_length]\n",
    "            frame_wind = frame * window\n",
    "\n",
    "            spec = np.fft.fft(frame_wind)\n",
    "            nyquist = int(np.floor(spec.shape[0] / 2))\n",
    "            spec = spec[1:nyquist]\n",
    "\n",
    "            audio_features[i, 0] = compute_zcr(frame_wind, fs)\n",
    "            audio_features[i, 1] = compute_specdec(spec)\n",
    "            audio_features[i, 2] = compute_speccentr(spec, fs)\n",
    "        \n",
    "        train_basic_features.append(audio_features)\n",
    "\n",
    "print(\"finished\")\n"
   ]
  },
  {
   "cell_type": "code",
   "execution_count": 32,
   "id": "following-independence",
   "metadata": {},
   "outputs": [
    {
     "name": "stdout",
     "output_type": "stream",
     "text": [
      "(38, 3)\n",
      "51\n",
      "[[ 1.10000000e+03 -1.52378090e-01  8.77889275e+02]\n",
      " [ 1.20000000e+03 -1.04533151e-01  7.09824130e+02]\n",
      " [ 9.00000000e+02  9.49024304e-02  1.45867690e+03]\n",
      " [ 1.70000000e+03  1.72979950e-01  1.51325997e+03]\n",
      " [ 2.30000000e+03  2.29357236e-01  1.37032009e+03]\n",
      " [ 2.30000000e+03  1.46944005e-01  1.46838952e+03]\n",
      " [ 2.00000000e+03  6.37848605e-02  1.78550520e+03]\n",
      " [ 1.90000000e+03  1.32156388e-01  1.73454973e+03]\n",
      " [ 1.70000000e+03  2.86262286e-01  1.35183094e+03]\n",
      " [ 2.10000000e+03  1.74912524e-01  1.41377249e+03]\n",
      " [ 1.40000000e+03  8.02855520e-02  1.64502617e+03]\n",
      " [ 1.50000000e+03  2.02296296e-01  1.62178907e+03]\n",
      " [ 1.50000000e+03  3.22887721e-01  1.31904195e+03]\n",
      " [ 1.40000000e+03  3.42168129e-01  1.17515540e+03]\n",
      " [ 1.40000000e+03  2.39485640e-01  1.43487403e+03]\n",
      " [ 1.30000000e+03  2.11733534e-01  1.62275740e+03]\n",
      " [ 1.90000000e+03  2.43860539e-01  1.46424856e+03]\n",
      " [ 2.10000000e+03  2.62709266e-01  1.37931412e+03]\n",
      " [ 1.10000000e+03  3.53844672e-01  9.33581634e+02]\n",
      " [ 1.10000000e+03  4.37016371e-01  7.79421052e+02]\n",
      " [ 9.00000000e+02  3.78842118e-01  9.35146212e+02]\n",
      " [ 1.50000000e+03  1.71589456e-01  1.14166473e+03]\n",
      " [ 1.20000000e+03  6.02689209e-02  1.19907317e+03]\n",
      " [ 1.40000000e+03  9.03705959e-02  1.06270052e+03]\n",
      " [ 1.70000000e+03 -2.09208684e-02  1.16268712e+03]\n",
      " [ 1.20000000e+03  8.74910905e-03  9.94691264e+02]\n",
      " [ 1.00000000e+03  6.70330572e-02  9.69962426e+02]\n",
      " [ 1.00000000e+03  2.11809430e-01  7.92926284e+02]\n",
      " [ 1.00000000e+03  2.67515648e-01  6.90241911e+02]\n",
      " [ 1.10000000e+03  2.85845692e-01  6.88220330e+02]\n",
      " [ 1.10000000e+03  2.75716270e-01  6.56844213e+02]\n",
      " [ 1.00000000e+03  2.11051306e-01  6.93999041e+02]\n",
      " [ 9.00000000e+02  1.55076122e-01  6.95201187e+02]\n",
      " [ 1.00000000e+03  2.42637816e-01  7.13706805e+02]\n",
      " [ 1.00000000e+03  2.74627664e-01  6.32648389e+02]\n",
      " [ 1.00000000e+03  2.75481361e-01  6.18490962e+02]\n",
      " [ 1.00000000e+03  2.79887162e-01  5.76857107e+02]\n",
      " [ 1.00000000e+03  2.20136451e-01  5.68739994e+02]]\n"
     ]
    }
   ],
   "source": [
    "print(train_basic_features[0].shape)\n",
    "print(train_win_number)\n",
    "print(train_basic_features[0])"
   ]
  },
  {
   "cell_type": "markdown",
   "id": "differential-haven",
   "metadata": {},
   "source": [
    "## SVM multiclass"
   ]
  },
  {
   "cell_type": "code",
   "execution_count": 70,
   "id": "romantic-stevens",
   "metadata": {},
   "outputs": [
    {
     "name": "stdout",
     "output_type": "stream",
     "text": [
      "0 0.0\n",
      "1 0.0\n",
      "2 0.0\n",
      "3 0.0\n",
      "(1500, 13)\n"
     ]
    }
   ],
   "source": [
    "X_train = np.array(np.zeros(4))\n",
    "for i,f in enumerate(X_train):\n",
    "    print(i,f)\n",
    "\n",
    "print(dict_train_features[classes[0]].shape)\n"
   ]
  },
  {
   "cell_type": "code",
   "execution_count": 78,
   "id": "otherwise-sweden",
   "metadata": {},
   "outputs": [
    {
     "ename": "ValueError",
     "evalue": "setting an array element with a sequence.",
     "output_type": "error",
     "traceback": [
      "\u001b[1;31m---------------------------------------------------------------------------\u001b[0m",
      "\u001b[1;31mTypeError\u001b[0m                                 Traceback (most recent call last)",
      "\u001b[1;31mTypeError\u001b[0m: only size-1 arrays can be converted to Python scalars",
      "\nThe above exception was the direct cause of the following exception:\n",
      "\u001b[1;31mValueError\u001b[0m                                Traceback (most recent call last)",
      "\u001b[1;32m<ipython-input-78-53b565e2fa28>\u001b[0m in \u001b[0;36m<module>\u001b[1;34m\u001b[0m\n\u001b[0;32m      7\u001b[0m     \u001b[0mX_train\u001b[0m\u001b[1;33m.\u001b[0m\u001b[0mappend\u001b[0m\u001b[1;33m(\u001b[0m\u001b[0mdict_train_features\u001b[0m\u001b[1;33m[\u001b[0m\u001b[0mclasses\u001b[0m\u001b[1;33m[\u001b[0m\u001b[0mi\u001b[0m\u001b[1;33m]\u001b[0m\u001b[1;33m]\u001b[0m\u001b[1;33m)\u001b[0m\u001b[1;33m\u001b[0m\u001b[1;33m\u001b[0m\u001b[0m\n\u001b[0;32m      8\u001b[0m     \u001b[0mX_test\u001b[0m\u001b[1;33m.\u001b[0m\u001b[0mappend\u001b[0m\u001b[1;33m(\u001b[0m\u001b[0mdict_test_features\u001b[0m\u001b[1;33m[\u001b[0m\u001b[0mclasses\u001b[0m\u001b[1;33m[\u001b[0m\u001b[0mi\u001b[0m\u001b[1;33m]\u001b[0m\u001b[1;33m]\u001b[0m\u001b[1;33m)\u001b[0m\u001b[1;33m\u001b[0m\u001b[1;33m\u001b[0m\u001b[0m\n\u001b[1;32m----> 9\u001b[1;33m     \u001b[0mX_train_max\u001b[0m\u001b[1;33m[\u001b[0m\u001b[0mi\u001b[0m\u001b[1;33m]\u001b[0m \u001b[1;33m=\u001b[0m \u001b[0mnp\u001b[0m\u001b[1;33m.\u001b[0m\u001b[0mmax\u001b[0m\u001b[1;33m(\u001b[0m\u001b[0mdict_train_features\u001b[0m\u001b[1;33m[\u001b[0m\u001b[0mclasses\u001b[0m\u001b[1;33m[\u001b[0m\u001b[0mi\u001b[0m\u001b[1;33m]\u001b[0m\u001b[1;33m]\u001b[0m\u001b[1;33m,\u001b[0m \u001b[0maxis\u001b[0m\u001b[1;33m=\u001b[0m\u001b[1;36m0\u001b[0m\u001b[1;33m)\u001b[0m\u001b[1;33m\u001b[0m\u001b[1;33m\u001b[0m\u001b[0m\n\u001b[0m\u001b[0;32m     10\u001b[0m     \u001b[0mX_train_min\u001b[0m\u001b[1;33m[\u001b[0m\u001b[0mi\u001b[0m\u001b[1;33m]\u001b[0m \u001b[1;33m=\u001b[0m \u001b[0mnp\u001b[0m\u001b[1;33m.\u001b[0m\u001b[0mmin\u001b[0m\u001b[1;33m(\u001b[0m\u001b[0mdict_train_features\u001b[0m\u001b[1;33m[\u001b[0m\u001b[0mclasses\u001b[0m\u001b[1;33m[\u001b[0m\u001b[0mi\u001b[0m\u001b[1;33m]\u001b[0m\u001b[1;33m]\u001b[0m\u001b[1;33m,\u001b[0m \u001b[0maxis\u001b[0m\u001b[1;33m=\u001b[0m\u001b[1;36m0\u001b[0m\u001b[1;33m)\u001b[0m\u001b[1;33m\u001b[0m\u001b[1;33m\u001b[0m\u001b[0m\n\u001b[0;32m     11\u001b[0m \u001b[1;33m\u001b[0m\u001b[0m\n",
      "\u001b[1;31mValueError\u001b[0m: setting an array element with a sequence."
     ]
    }
   ],
   "source": [
    "X_train = []\n",
    "X_test = []\n",
    "X_train_max = np.zeros(10)\n",
    "X_train_min = np.zeros(10)\n",
    "\n",
    "for i in np.arange(10):\n",
    "    X_train.append(dict_train_features[classes[i]])\n",
    "    X_test.append(dict_test_features[classes[i]])\n",
    "    X_train_max[i] = np.max(dict_train_features[classes[i]], axis=0)\n",
    "    X_train_min[i] = np.min(dict_train_features[classes[i]], axis=0)\n",
    "    \n",
    "feat_max = np.max(X_train_max, axis=0)\n",
    "feat_min = np.min(X_train_min, axis=0)\n",
    "\n",
    "X_train_normalized = []\n",
    "X_test_normalized = []\n",
    "\n",
    "for i in np.arange(10):\n",
    "    X_train_normalized.append((X_train[i] - feat_min) / (feat_max - feat_min))\n",
    "    X_test_normalized.append((X_test[i] - feat_min) / (feat_max - feat_min))\n",
    "\n",
    "X_test_mc_normalized = X_test_normalized[0]\n",
    "for i in np.arange(1,10):\n",
    "    X_test_mc_normalized = np.concatenate((X_test_mc_normalized, X_test_normalized[i]), axis=0)"
   ]
  },
  {
   "cell_type": "code",
   "execution_count": null,
   "id": "willing-rebel",
   "metadata": {},
   "outputs": [],
   "source": []
  },
  {
   "cell_type": "markdown",
   "id": "nearby-frame",
   "metadata": {},
   "source": [
    "### Notes"
   ]
  },
  {
   "cell_type": "code",
   "execution_count": null,
   "id": "educational-briefing",
   "metadata": {},
   "outputs": [],
   "source": [
    "# maybe check if volume is constant in each recording\n",
    "# also duration seems to change, is this a problem?"
   ]
  },
  {
   "cell_type": "code",
   "execution_count": null,
   "id": "secure-preparation",
   "metadata": {},
   "outputs": [],
   "source": []
  }
 ],
 "metadata": {
  "kernelspec": {
   "display_name": "Python 3",
   "language": "python",
   "name": "python3"
  },
  "language_info": {
   "codemirror_mode": {
    "name": "ipython",
    "version": 3
   },
   "file_extension": ".py",
   "mimetype": "text/x-python",
   "name": "python",
   "nbconvert_exporter": "python",
   "pygments_lexer": "ipython3",
   "version": "3.7.10"
  }
 },
 "nbformat": 4,
 "nbformat_minor": 5
}
