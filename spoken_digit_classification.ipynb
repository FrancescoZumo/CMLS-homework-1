{
 "cells": [
  {
   "cell_type": "markdown",
   "id": "successful-stretch",
   "metadata": {},
   "source": [
    "# Spoken Digit Classification"
   ]
  },
  {
   "cell_type": "code",
   "execution_count": 24,
   "id": "alleged-traffic",
   "metadata": {},
   "outputs": [],
   "source": [
    "import numpy as np\n",
    "import librosa\n",
    "import os\n",
    "import matplotlib.pyplot as plt\n",
    "import sklearn.svm\n",
    "import IPython.display as ipd\n",
    "import scipy as sp\n",
    "%matplotlib inline\n",
    "from sklearn.mixture import BayesianGaussianMixture\n",
    "# import seaborn as sns\n"
   ]
  },
  {
   "cell_type": "markdown",
   "id": "annoying-builder",
   "metadata": {},
   "source": [
    "# Define features"
   ]
  },
  {
   "cell_type": "markdown",
   "id": "emerging-elements",
   "metadata": {},
   "source": [
    "## Zero crossing rate"
   ]
  },
  {
   "cell_type": "code",
   "execution_count": 28,
   "id": "instrumental-intent",
   "metadata": {},
   "outputs": [],
   "source": [
    "def compute_zcr(win, Fs):\n",
    "    # returns an array of 1 (value > 0) and 0 (value < 0)\n",
    "    win_sign = np.sign(win)\n",
    "    # length calculated across input dimension (in this case 0)\n",
    "    N = win.shape[0]\n",
    "    # difference inside the formula \n",
    "    # (NB win_sign[:-1] means from first to the second last, so the last is excluded)\n",
    "    sign_diff = np.abs(win_sign[:-1] - win_sign[1:])\n",
    "    \n",
    "    zcr = np.sum(sign_diff) * Fs / (2 * N)\n",
    "    zcr = len(sign_diff[sign_diff != 0]) * Fs / N\n",
    "    return zcr"
   ]
  },
  {
   "cell_type": "markdown",
   "id": "executed-triumph",
   "metadata": {},
   "source": [
    "## Spectral decrease"
   ]
  },
  {
   "cell_type": "code",
   "execution_count": 29,
   "id": "specified-transition",
   "metadata": {},
   "outputs": [],
   "source": [
    "def compute_specdec(spec):\n",
    "    mul_fact = 1 / (np.sum(np.abs(spec[1:])))\n",
    "    num = np.abs(spec[1:]) - np.abs(spec[0])\n",
    "    den = np.arange(1, len(spec)) - 1\n",
    "    den[den == 0] = 1\n",
    "    spectral_decrease = mul_fact * np.sum(num / den)\n",
    "    return spectral_decrease"
   ]
  },
  {
   "cell_type": "markdown",
   "id": "bronze-architect",
   "metadata": {},
   "source": [
    "## Spectral centroid"
   ]
  },
  {
   "cell_type": "code",
   "execution_count": 30,
   "id": "committed-steal",
   "metadata": {},
   "outputs": [],
   "source": [
    "def compute_speccentr(spec, Fs):\n",
    "    freq_axis = np.linspace(0, Fs//2, len(spec))\n",
    "    centr = np.dot(freq_axis, np.abs(spec)) / np.sum(np.abs(spec), axis = 0)\n",
    "    return centr"
   ]
  },
  {
   "cell_type": "markdown",
   "id": "identified-courage",
   "metadata": {},
   "source": [
    "## import recordings"
   ]
  },
  {
   "cell_type": "code",
   "execution_count": 34,
   "id": "unknown-correction",
   "metadata": {},
   "outputs": [
    {
     "name": "stdout",
     "output_type": "stream",
     "text": [
      "number of train files: 1500\n",
      "number of test files: 1500\n"
     ]
    }
   ],
   "source": [
    "# define the 10 classes\n",
    "classes = ['zero', 'one', 'two', 'three', 'four', 'five', 'six', 'seven', 'eight', 'nine']\n",
    "\n",
    "# initialize train features\n",
    "train_features = {'zero': [], 'one': [], 'two': [], 'three': [], 'four': [], 'five': [], 'six': [], 'seven': [], 'eight': [], 'nine': []}\n",
    "\n",
    "train_root = '../free-spoken-digit-dataset/recordings'\n",
    "for c in classes:\n",
    "    # train array (for now it will contain all even recordings)\n",
    "    class_train_files = []\n",
    "    # test array (for now it will contain all odd recordings)\n",
    "    class_test_files = []\n",
    "    for f in os.listdir(train_root):\n",
    "        if int(f[-5]) % 2 == 0:\n",
    "            #print(\"{} è pari\".format(f[-5]))\n",
    "            class_train_files.append(f)\n",
    "        else:\n",
    "            #print(\"{} è dispari\".format(f[-5]))\n",
    "            class_test_files.append(f)\n",
    "\n",
    "# check length of train and test arrays\n",
    "print(\"number of train files: {}\".format(len(class_train_files)))\n",
    "print(\"number of test files: {}\".format(len(class_test_files)))"
   ]
  },
  {
   "cell_type": "code",
   "execution_count": 36,
   "id": "urban-validity",
   "metadata": {},
   "outputs": [
    {
     "data": {
      "text/html": [
       "\n",
       "                <audio  controls=\"controls\" >\n",
       "                    <source src=\"data:audio/wav;base64,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\" type=\"audio/wav\" />\n",
       "                    Your browser does not support the audio element.\n",
       "                </audio>\n",
       "              "
      ],
      "text/plain": [
       "<IPython.lib.display.Audio object>"
      ]
     },
     "execution_count": 36,
     "metadata": {},
     "output_type": "execute_result"
    }
   ],
   "source": [
    "# listen to an audio file\n",
    "audio, fs = librosa.load(os.path.join(train_root, class_train_files[0]), sr=None)\n",
    "ipd.Audio(audio, rate=fs) # load the file"
   ]
  },
  {
   "cell_type": "code",
   "execution_count": null,
   "id": "educational-briefing",
   "metadata": {},
   "outputs": [],
   "source": []
  }
 ],
 "metadata": {
  "kernelspec": {
   "display_name": "Python 3",
   "language": "python",
   "name": "python3"
  },
  "language_info": {
   "codemirror_mode": {
    "name": "ipython",
    "version": 3
   },
   "file_extension": ".py",
   "mimetype": "text/x-python",
   "name": "python",
   "nbconvert_exporter": "python",
   "pygments_lexer": "ipython3",
   "version": "3.7.10"
  }
 },
 "nbformat": 4,
 "nbformat_minor": 5
}
